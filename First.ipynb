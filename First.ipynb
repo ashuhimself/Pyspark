{
 "cells": [
  {
   "cell_type": "code",
   "execution_count": 7,
   "id": "b0fdede0-d6ca-415a-9e27-08cd2b96d925",
   "metadata": {
    "tags": []
   },
   "outputs": [],
   "source": [
    "#pip install pyspark\n",
    "from pyspark.sql import SparkSession\n",
    "\n",
    "# The builder method is used to set up an app which we name 'HelloWorldApp'\n",
    "spark = SparkSession.builder.appName(\"FirstSparkApplication\").getOrCreate()"
   ]
  },
  {
   "cell_type": "code",
   "execution_count": 6,
   "id": "59e32a7a-7f4e-4876-a52c-4fd16e2860a2",
   "metadata": {
    "tags": []
   },
   "outputs": [],
   "source": []
  },
  {
   "cell_type": "code",
   "execution_count": null,
   "id": "da2994db-4b0d-4c4e-a79b-c1e0b896f196",
   "metadata": {},
   "outputs": [],
   "source": []
  }
 ],
 "metadata": {
  "kernelspec": {
   "display_name": "Python 3 (ipykernel)",
   "language": "python",
   "name": "python3"
  },
  "language_info": {
   "codemirror_mode": {
    "name": "ipython",
    "version": 3
   },
   "file_extension": ".py",
   "mimetype": "text/x-python",
   "name": "python",
   "nbconvert_exporter": "python",
   "pygments_lexer": "ipython3",
   "version": "3.10.6"
  }
 },
 "nbformat": 4,
 "nbformat_minor": 5
}
